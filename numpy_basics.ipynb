{
  "nbformat": 4,
  "nbformat_minor": 0,
  "metadata": {
    "colab": {
      "name": "numpy_basics.ipynb",
      "private_outputs": true,
      "provenance": [],
      "collapsed_sections": [],
      "authorship_tag": "ABX9TyM68xnkj9ENA4hZU+Hy5gDG",
      "include_colab_link": true
    },
    "kernelspec": {
      "name": "python3",
      "display_name": "Python 3"
    },
    "language_info": {
      "name": "python"
    }
  },
  "cells": [
    {
      "cell_type": "markdown",
      "metadata": {
        "id": "view-in-github",
        "colab_type": "text"
      },
      "source": [
        "<a href=\"https://colab.research.google.com/github/manneshivakumar/numpy/blob/main/numpy_basics.ipynb\" target=\"_parent\"><img src=\"https://colab.research.google.com/assets/colab-badge.svg\" alt=\"Open In Colab\"/></a>"
      ]
    },
    {
      "cell_type": "code",
      "metadata": {
        "id": "F3HOPWV8tDL7"
      },
      "source": [
        "import numpy as np"
      ],
      "execution_count": null,
      "outputs": []
    },
    {
      "cell_type": "code",
      "metadata": {
        "id": "nLdEbQFaFyl2"
      },
      "source": [
        "arr = np.arange(10000)\n",
        "# creates array of specified size"
      ],
      "execution_count": null,
      "outputs": []
    },
    {
      "cell_type": "code",
      "metadata": {
        "id": "oQa-H5woF1Lw"
      },
      "source": [
        "print(arr.size)\n",
        "print(arr.sum())\n",
        "print(arr.view)"
      ],
      "execution_count": null,
      "outputs": []
    },
    {
      "cell_type": "markdown",
      "metadata": {
        "id": "1amOAXKkGtHa"
      },
      "source": [
        "numpy and python comparision"
      ]
    },
    {
      "cell_type": "code",
      "metadata": {
        "id": "zSPlYUwJGvUp"
      },
      "source": [
        "my_arr = np.arange(10000)\n",
        "%time for _ in range(10): my_arr2 = my_arr * 2"
      ],
      "execution_count": null,
      "outputs": []
    },
    {
      "cell_type": "code",
      "metadata": {
        "id": "Difzc6yiGDah"
      },
      "source": [
        "my_list = list(range(1000000))\n",
        "%time for _ in range(10): my_list2 = [x * 2 for x in my_list]"
      ],
      "execution_count": null,
      "outputs": []
    },
    {
      "cell_type": "markdown",
      "metadata": {
        "id": "tXNMag4HHB5N"
      },
      "source": [
        "ndarray"
      ]
    },
    {
      "cell_type": "code",
      "metadata": {
        "id": "AeCa597BGTKJ"
      },
      "source": [
        "data = np.random.rand(2,2) # creates a randon 2*2 array\n",
        "# data = np.random.randint(3)\n",
        "# data = np.random.randn\n",
        "# data = np.random.random_integers\n",
        "# data = np.random.random\n",
        "# data = np.random.ranf(4)\n",
        "data"
      ],
      "execution_count": null,
      "outputs": []
    },
    {
      "cell_type": "code",
      "metadata": {
        "id": "AO03oHuBHJIQ"
      },
      "source": [
        "print(data.shape)\n",
        "print(data.dtype)\n",
        "print(data.size)\n",
        "print(data.view)"
      ],
      "execution_count": null,
      "outputs": []
    },
    {
      "cell_type": "code",
      "metadata": {
        "id": "zYsSw4SkIMEv"
      },
      "source": [
        "# creating ndarray\n",
        "l1 = [1,2,3,4]\n",
        "np1 = np.array(l1)"
      ],
      "execution_count": null,
      "outputs": []
    },
    {
      "cell_type": "code",
      "metadata": {
        "id": "LdLJXXFgI-CS"
      },
      "source": [
        "print(np1.shape)\n",
        "print(np1.dtype)\n",
        "print(np1.size)\n",
        "print(np1.view)"
      ],
      "execution_count": null,
      "outputs": []
    },
    {
      "cell_type": "code",
      "metadata": {
        "id": "gznuzEFiJAxG"
      },
      "source": [
        "l2 = [1,2,3,4],[5,6,7,8]\n",
        "np2 = np.array(l2)"
      ],
      "execution_count": null,
      "outputs": []
    },
    {
      "cell_type": "code",
      "metadata": {
        "id": "LBQLLiGCJLl4"
      },
      "source": [
        "print(np2.shape)\n",
        "print(np2.dtype)\n",
        "print(np2.size)\n",
        "print(np2.view)\n",
        "print(np2.ndim)"
      ],
      "execution_count": null,
      "outputs": []
    },
    {
      "cell_type": "code",
      "metadata": {
        "id": "IuQ1M0UFJdc4"
      },
      "source": [
        "l2 = (1,2,3,4),(5,6,7,8)\n",
        "np2 = np.array(l2)"
      ],
      "execution_count": null,
      "outputs": []
    },
    {
      "cell_type": "code",
      "metadata": {
        "id": "ga6n1644J3J2"
      },
      "source": [
        "print(np2.shape)\n",
        "print(np2.dtype)\n",
        "print(np2.size)\n",
        "print(np2.view)\n",
        "print(np2.ndim)"
      ],
      "execution_count": null,
      "outputs": []
    },
    {
      "cell_type": "code",
      "metadata": {
        "id": "A_X6YsqbJ3mk"
      },
      "source": [
        "np.zeros(3)"
      ],
      "execution_count": null,
      "outputs": []
    },
    {
      "cell_type": "code",
      "metadata": {
        "id": "eVuJzXj4KDUm"
      },
      "source": [
        "np.ones(3)"
      ],
      "execution_count": null,
      "outputs": []
    },
    {
      "cell_type": "code",
      "metadata": {
        "id": "IZdKDLEzKElE"
      },
      "source": [
        "np.identity(5)"
      ],
      "execution_count": null,
      "outputs": []
    },
    {
      "cell_type": "code",
      "metadata": {
        "id": "8SD7s7k4KH0s"
      },
      "source": [
        "np.empty(4)"
      ],
      "execution_count": null,
      "outputs": []
    },
    {
      "cell_type": "code",
      "metadata": {
        "id": "gBfySYeiKLEV"
      },
      "source": [
        "np.empty((2,2,2))"
      ],
      "execution_count": null,
      "outputs": []
    },
    {
      "cell_type": "code",
      "metadata": {
        "id": "55EyhzmiKM63"
      },
      "source": [
        "k = np.arange(2)\n",
        "k\n",
        "# same as range in python"
      ],
      "execution_count": null,
      "outputs": []
    },
    {
      "cell_type": "code",
      "metadata": {
        "id": "4Ufaq_FOKfT3"
      },
      "source": [
        "arr1 = np.array([1,2,3], dtype=np.float)\n",
        "arr2 = np.array([1,2,3], dtype=np.int32)"
      ],
      "execution_count": null,
      "outputs": []
    },
    {
      "cell_type": "code",
      "metadata": {
        "id": "XlKshyTrK-yL"
      },
      "source": [
        "print(arr1.dtype)\n",
        "print(arr2.dtype)"
      ],
      "execution_count": null,
      "outputs": []
    },
    {
      "cell_type": "markdown",
      "metadata": {
        "id": "fC1OhHr0L51M"
      },
      "source": [
        "dtyep conversion"
      ]
    },
    {
      "cell_type": "code",
      "metadata": {
        "id": "uUSa8gYTLCsL"
      },
      "source": [
        "arr = np.array([1, 2, 3, 4, 5])\n",
        "print(arr)\n",
        "print(arr.dtype)"
      ],
      "execution_count": null,
      "outputs": []
    },
    {
      "cell_type": "code",
      "metadata": {
        "id": "MIHudk5jL9hV"
      },
      "source": [
        "f_arr = arr.astype(float)\n",
        "print(f_arr.dtype)\n",
        "print(f_arr)"
      ],
      "execution_count": null,
      "outputs": []
    },
    {
      "cell_type": "code",
      "metadata": {
        "id": "CocjCnqAMIZz"
      },
      "source": [
        "s_arr = np.array(['1.25', '-9.6', '42'], dtype=np.string_)\n",
        "print(s_arr.dtype)\n",
        "print(s_arr)\n",
        "f_arr = s_arr.astype(np.float)\n",
        "print(f_arr.dtype)\n",
        "print(f_arr)"
      ],
      "execution_count": null,
      "outputs": []
    },
    {
      "cell_type": "code",
      "metadata": {
        "id": "K2mzmIiHMV_-"
      },
      "source": [
        "i_arr = np.arange(10)\n",
        "f_arr = np.array([.22, .270, .357, .380, .44, .50])\n",
        "i_arr.astype(f_arr.dtype)"
      ],
      "execution_count": null,
      "outputs": []
    },
    {
      "cell_type": "markdown",
      "metadata": {
        "id": "lc7hhStZN0Ts"
      },
      "source": [
        "broadcasting"
      ]
    },
    {
      "cell_type": "code",
      "metadata": {
        "id": "U3SU_P_GNbTp"
      },
      "source": [
        "arr = np.array([[1., 2., 3.], [4., 5., 6.]])"
      ],
      "execution_count": null,
      "outputs": []
    },
    {
      "cell_type": "code",
      "metadata": {
        "id": "Kngdu0QCN_i4"
      },
      "source": [
        "arr + arr"
      ],
      "execution_count": null,
      "outputs": []
    },
    {
      "cell_type": "code",
      "metadata": {
        "id": "J8-NlbDeOATT"
      },
      "source": [
        "arr - arr"
      ],
      "execution_count": null,
      "outputs": []
    },
    {
      "cell_type": "code",
      "metadata": {
        "id": "Ti8lx8oGOBlU"
      },
      "source": [
        "arr /1"
      ],
      "execution_count": null,
      "outputs": []
    },
    {
      "cell_type": "code",
      "metadata": {
        "id": "YGrT_jRsOCnv"
      },
      "source": [
        "1/arr"
      ],
      "execution_count": null,
      "outputs": []
    },
    {
      "cell_type": "code",
      "metadata": {
        "id": "-QRWNI_9OGCr"
      },
      "source": [
        "arr2 = np.array([[0., 4., 1.], [7., 2., 12.]])"
      ],
      "execution_count": null,
      "outputs": []
    },
    {
      "cell_type": "code",
      "metadata": {
        "id": "PMADhcY7OJqI"
      },
      "source": [
        "arr2 > arr1"
      ],
      "execution_count": null,
      "outputs": []
    },
    {
      "cell_type": "code",
      "metadata": {
        "id": "wMzVfsrtOMD2"
      },
      "source": [
        ""
      ],
      "execution_count": null,
      "outputs": []
    },
    {
      "cell_type": "markdown",
      "metadata": {
        "id": "4j7bKsJuOSP0"
      },
      "source": [
        "     slicing"
      ]
    },
    {
      "cell_type": "code",
      "metadata": {
        "id": "opimb18eOZpw"
      },
      "source": [
        "arr = np.arange(10)"
      ],
      "execution_count": null,
      "outputs": []
    },
    {
      "cell_type": "code",
      "metadata": {
        "id": "uiyOkp5dOZ9g"
      },
      "source": [
        "arr"
      ],
      "execution_count": null,
      "outputs": []
    },
    {
      "cell_type": "code",
      "metadata": {
        "id": "sM3aDge3ObQU"
      },
      "source": [
        "arr[0]"
      ],
      "execution_count": null,
      "outputs": []
    },
    {
      "cell_type": "code",
      "metadata": {
        "id": "NTRHmlBdOcDg"
      },
      "source": [
        "arr[1]"
      ],
      "execution_count": null,
      "outputs": []
    },
    {
      "cell_type": "code",
      "metadata": {
        "id": "z8JR4_69OdQc"
      },
      "source": [
        "arr[2:4]"
      ],
      "execution_count": null,
      "outputs": []
    },
    {
      "cell_type": "code",
      "metadata": {
        "id": "HeBn-k0ROhUz"
      },
      "source": [
        "arr[:]"
      ],
      "execution_count": null,
      "outputs": []
    },
    {
      "cell_type": "code",
      "metadata": {
        "id": "hSewgf2uOjJ-"
      },
      "source": [
        "arr[3:]"
      ],
      "execution_count": null,
      "outputs": []
    },
    {
      "cell_type": "code",
      "metadata": {
        "id": "kUphQlCjOkaR"
      },
      "source": [
        "arr[:4]"
      ],
      "execution_count": null,
      "outputs": []
    },
    {
      "cell_type": "code",
      "metadata": {
        "id": "zzNPYun9Ol0f"
      },
      "source": [
        " arr2d = np.array([[1, 2, 3], [4, 5, 6], [7, 8, 9]])"
      ],
      "execution_count": null,
      "outputs": []
    },
    {
      "cell_type": "code",
      "metadata": {
        "id": "2-nNvFn0PXJ0"
      },
      "source": [
        " arr2d[:2, 1:]"
      ],
      "execution_count": null,
      "outputs": []
    },
    {
      "cell_type": "code",
      "metadata": {
        "id": "_uAykWsROufA"
      },
      "source": [
        "arr2d[0]"
      ],
      "execution_count": null,
      "outputs": []
    },
    {
      "cell_type": "code",
      "metadata": {
        "id": "6oUC4MGzOwQr"
      },
      "source": [
        "arr2d[2]"
      ],
      "execution_count": null,
      "outputs": []
    },
    {
      "cell_type": "code",
      "metadata": {
        "id": "OJLWPYwRO0lD"
      },
      "source": [
        "  arr2d[0][2]"
      ],
      "execution_count": null,
      "outputs": []
    },
    {
      "cell_type": "code",
      "metadata": {
        "id": "kVjNxcdWO6MP"
      },
      "source": [
        "arr3d = np.array([[[1, 2, 3], [4, 5, 6]], [[7, 8, 9], [10, 11, 12]]])"
      ],
      "execution_count": null,
      "outputs": []
    },
    {
      "cell_type": "code",
      "metadata": {
        "id": "XQiaFG7GPGQh"
      },
      "source": [
        "arr3d[0]"
      ],
      "execution_count": null,
      "outputs": []
    },
    {
      "cell_type": "code",
      "metadata": {
        "id": "H-TWGprMPH4O"
      },
      "source": [
        "arr3d[0][1][1]"
      ],
      "execution_count": null,
      "outputs": []
    },
    {
      "cell_type": "code",
      "metadata": {
        "id": "M_SYZ4LoPMWw"
      },
      "source": [
        "arr3d[0][0][1]"
      ],
      "execution_count": null,
      "outputs": []
    },
    {
      "cell_type": "markdown",
      "metadata": {
        "id": "i9_-mVVeRYPi"
      },
      "source": [
        "Bool indexing"
      ]
    },
    {
      "cell_type": "code",
      "metadata": {
        "id": "-1FAZZYRPO26"
      },
      "source": [
        "names = np.array(['Bob', 'Joe', 'Will', 'Bob', 'Will', 'Joe', 'Joe'])\n",
        "data = np.random.randn(7, 4)\n",
        "data"
      ],
      "execution_count": null,
      "outputs": []
    },
    {
      "cell_type": "code",
      "metadata": {
        "id": "J0IN9aI8RckX"
      },
      "source": [
        "names == 'bob'"
      ],
      "execution_count": null,
      "outputs": []
    },
    {
      "cell_type": "code",
      "metadata": {
        "id": "ZTZrvs-hRfQB"
      },
      "source": [
        "names == 'Bob'"
      ],
      "execution_count": null,
      "outputs": []
    },
    {
      "cell_type": "code",
      "metadata": {
        "id": "ipMsp_ZQRlPt"
      },
      "source": [
        "data[names =='Bob']"
      ],
      "execution_count": null,
      "outputs": []
    },
    {
      "cell_type": "code",
      "metadata": {
        "id": "B8vCQsKvRo1d"
      },
      "source": [
        "data[names =='Bob',2:]# select from the rows where names == 'Bob' and index the columns, too:"
      ],
      "execution_count": null,
      "outputs": []
    },
    {
      "cell_type": "code",
      "metadata": {
        "id": "Bmelxg_7R1Xb"
      },
      "source": [
        "data[~(names == 'Bob')]"
      ],
      "execution_count": null,
      "outputs": []
    },
    {
      "cell_type": "code",
      "metadata": {
        "id": "t4okmCyGSD6H"
      },
      "source": [
        "data[names != 'Bob']"
      ],
      "execution_count": null,
      "outputs": []
    },
    {
      "cell_type": "code",
      "metadata": {
        "id": "0DEdbRpzSGYJ"
      },
      "source": [
        "cond = names == 'Bob'\n",
        "data[cond]"
      ],
      "execution_count": null,
      "outputs": []
    },
    {
      "cell_type": "code",
      "metadata": {
        "id": "nA20f3iuSPeZ"
      },
      "source": [
        "mask = (names == 'Bob') | (names == 'Will')\n",
        "mask"
      ],
      "execution_count": null,
      "outputs": []
    },
    {
      "cell_type": "code",
      "metadata": {
        "id": "rLHM5XzTSSgV"
      },
      "source": [
        "data[mask]"
      ],
      "execution_count": null,
      "outputs": []
    },
    {
      "cell_type": "code",
      "metadata": {
        "id": "3_eyWlAASVKF"
      },
      "source": [
        "data[data < 0] = 0"
      ],
      "execution_count": null,
      "outputs": []
    },
    {
      "cell_type": "code",
      "metadata": {
        "id": "E2OyflMFScF1"
      },
      "source": [
        "data"
      ],
      "execution_count": null,
      "outputs": []
    },
    {
      "cell_type": "code",
      "metadata": {
        "id": "AnxKrBnWSchY"
      },
      "source": [
        "data[names != 'Joe'] = 7"
      ],
      "execution_count": null,
      "outputs": []
    },
    {
      "cell_type": "code",
      "metadata": {
        "id": "Xufrzkl6SfXO"
      },
      "source": [
        "data"
      ],
      "execution_count": null,
      "outputs": []
    },
    {
      "cell_type": "code",
      "metadata": {
        "id": "IjneMZL8SgUj"
      },
      "source": [
        ""
      ],
      "execution_count": null,
      "outputs": []
    },
    {
      "cell_type": "markdown",
      "metadata": {
        "id": "NmnTJmqdSkEV"
      },
      "source": [
        "fancy\n"
      ]
    },
    {
      "cell_type": "code",
      "metadata": {
        "id": "ANTbJEr0Sk3L"
      },
      "source": [
        "arr = np.empty((7, 4))"
      ],
      "execution_count": null,
      "outputs": []
    },
    {
      "cell_type": "code",
      "metadata": {
        "id": "H24ekmLRSlPa"
      },
      "source": [
        "for i in range(7):\n",
        "  arr[i] = i"
      ],
      "execution_count": null,
      "outputs": []
    },
    {
      "cell_type": "code",
      "metadata": {
        "id": "baD-_h42Snot"
      },
      "source": [
        "arr"
      ],
      "execution_count": null,
      "outputs": []
    },
    {
      "cell_type": "code",
      "metadata": {
        "id": "inz5se_tSpKl"
      },
      "source": [
        ""
      ],
      "execution_count": null,
      "outputs": []
    }
  ]
}